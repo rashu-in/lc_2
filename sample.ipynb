{
 "cells": [
  {
   "cell_type": "markdown",
   "id": "63c42173-66b5-4a97-8bf5-fbdc640f325c",
   "metadata": {},
   "source": [
    "## Here is the live coding part 2"
   ]
  },
  {
   "cell_type": "code",
   "execution_count": 1,
   "id": "f70b13b2-0fde-4e01-b744-77a7e2b8f717",
   "metadata": {},
   "outputs": [
    {
     "name": "stdout",
     "output_type": "stream",
     "text": [
      "Hey\n"
     ]
    }
   ],
   "source": [
    "print(\"Hey\")"
   ]
  },
  {
   "cell_type": "code",
   "execution_count": null,
   "id": "987425b5-a1c3-4926-a794-c48b328c8564",
   "metadata": {},
   "outputs": [],
   "source": []
  }
 ],
 "metadata": {
  "kernelspec": {
   "display_name": "Python 3 (ipykernel)",
   "language": "python",
   "name": "python3"
  },
  "language_info": {
   "codemirror_mode": {
    "name": "ipython",
    "version": 3
   },
   "file_extension": ".py",
   "mimetype": "text/x-python",
   "name": "python",
   "nbconvert_exporter": "python",
   "pygments_lexer": "ipython3",
   "version": "3.10.6"
  }
 },
 "nbformat": 4,
 "nbformat_minor": 5
}
